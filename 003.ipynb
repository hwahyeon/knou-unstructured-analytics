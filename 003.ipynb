{
 "cells": [
  {
   "cell_type": "code",
   "execution_count": 2,
   "metadata": {
    "vscode": {
     "languageId": "r"
    }
   },
   "outputs": [
    {
     "data": {
      "text/plain": [
       "NULL"
      ]
     },
     "metadata": {},
     "output_type": "display_data"
    },
    {
     "data": {
      "text/plain": [
       "NULL"
      ]
     },
     "metadata": {},
     "output_type": "display_data"
    },
    {
     "data": {
      "text/plain": [
       "NULL"
      ]
     },
     "metadata": {},
     "output_type": "display_data"
    }
   ],
   "source": [
    "#텍스트 목록 읽어오기(httr 및 XML 패키지 이용)-------------------------------------------------\n",
    "library(httr)\n",
    "library(XML)\n",
    "webpage=GET('https://press.knou.ac.kr/goods/textBookList.do?condLscValue=001&condMscValue=003&condSscValue=007&condScyr=4')\n",
    "web=htmlParse(webpage)\n",
    "xpathSApply(web,'//*[@id=\"listForm\"]/div/div[3]/div[3]/div[3]/table/tbody/tr[1]/td[2]/div/h5/a',xmlValue)\n",
    "\n",
    "xpathSApply(web,'//*[@id=\"listForm\"]/div/div[3]/div[3]/div[3]/table/tbody/tr[2]/td[2]/div/h5/a',xmlValue)\n",
    "\n",
    "xpathSApply(web,'//*[@id=\"listForm\"]/div/div[3]/div[3]/div[3]/table/tbody/tr[3]/td[2]/div/h5/a',xmlValue)\n"
   ]
  },
  {
   "cell_type": "code",
   "execution_count": 4,
   "metadata": {
    "vscode": {
     "languageId": "r"
    }
   },
   "outputs": [
    {
     "ename": "ERROR",
     "evalue": "Error in ls[i] <- xpathSApply(web, sub, xmlValue): replacement has length zero\n",
     "output_type": "error",
     "traceback": [
      "Error in ls[i] <- xpathSApply(web, sub, xmlValue): replacement has length zero\nTraceback:\n"
     ]
    }
   ],
   "source": [
    "ls <- rep(\"\",6)\n",
    "    for (i in 1:6) {\n",
    "    sub <- paste0('//*[@id=\"listForm\"]/div/div[3]/div[3]/div[3]/table/tbody/tr[',i,']/td[2]/div/h5/a')\n",
    "    ls[i] <- xpathSApply(web,sub,xmlValue)\n",
    "}\n",
    "\n",
    "ls\n",
    "if(0)'\n",
    "[1] \"고급 R 활용\"            \"딥러닝의통계적이해\"\n",
    "[3] \"비정형데이터분석\"       \"빅데이터의이해\"\n",
    "[5] \"성·사랑·사회\"         \"이슈로보는오늘날의유럽\"\n",
    "'\n",
    "\n"
   ]
  },
  {
   "cell_type": "code",
   "execution_count": null,
   "metadata": {
    "vscode": {
     "languageId": "r"
    }
   },
   "outputs": [],
   "source": [
    "#웹문서 읽어오기(rvest 및 dplyr 패키지 이용)---------------------------------------------------\n",
    "#dplyr는 pipe 사용, 데이터 프레임 변환 형태인 tibble 사용을 위함.\n",
    "\n",
    "library(rvest)\n",
    "library(dplyr)\n",
    "exurl <- \"https://ko.wikipedia.org/wiki/%EB%B9%84%EC%A0%95%ED%98%95_%EB%8D%B0%EC%9D%B4%ED%84%B0\"\n",
    "html_ex <- read_html(exurl,encoding=\"UTF-8\")\n",
    "\n",
    "html_ex%>%html_nodes(\".mw-parser-output p\")%>%html_text()\n",
    "html_ex%>%html_nodes(\"#mw-content-text p\")%>%html_text()"
   ]
  },
  {
   "cell_type": "code",
   "execution_count": null,
   "metadata": {
    "vscode": {
     "languageId": "r"
    }
   },
   "outputs": [],
   "source": [
    "#웹문서의 표 읽어오기(rvest 및 dplyr 패키지 이용)----------------------------------------------\n",
    "\n",
    "ex2url <- \"http://www.index.go.kr/potal/main/EachDtlPageDetail.do?idx_cd=2736\"\n",
    "\n",
    "html_ex2 <- read_html(ex2url,encoding=\"UTF-8\")\n",
    "html_ex2%>%html_nodes(\".table_style_2\")%>%html_table()\n",
    "\n",
    "# R 4.1.1 버젼과 tibble 패키지가 호환되지 않음. -> 구글 코렙에서 실행 시도.\n",
    "# R 4.1.2 버젼과 호환되는 것을 확인하였음.\n",
    "#------------------------------------------------------------------------------------"
   ]
  }
 ],
 "metadata": {
  "kernelspec": {
   "display_name": "R",
   "language": "R",
   "name": "ir"
  },
  "language_info": {
   "codemirror_mode": "r",
   "file_extension": ".r",
   "mimetype": "text/x-r-source",
   "name": "R",
   "pygments_lexer": "r",
   "version": "4.1.2"
  },
  "orig_nbformat": 4
 },
 "nbformat": 4,
 "nbformat_minor": 2
}
